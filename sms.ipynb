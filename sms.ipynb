{
 "metadata": {
  "name": "",
  "signature": "sha256:812a55ff78351d28fc8a9b4017727e6cc5cb5d501eedd3f3d55078b5d70c6ab1"
 },
 "nbformat": 3,
 "nbformat_minor": 0,
 "worksheets": [
  {
   "cells": [
    {
     "cell_type": "code",
     "collapsed": false,
     "input": [
      "from textblob import TextBlob as tb\n",
      "import csv \n",
      "import math\n",
      "from sklearn import tree\n",
      "from sklearn.cross_validation import train_test_split\n",
      "from sklearn.naive_bayes import GaussianNB\n",
      "from sklearn import metrics\n",
      "from sklearn.cross_validation import cross_val_score\n",
      "from sklearn.linear_model import LogisticRegression\n",
      "from sklearn.tree import DecisionTreeClassifier\n",
      "from sklearn.cluster import KMeans\n",
      "import numpy as np\n",
      "import pandas as pd\n",
      "from sklearn.naive_bayes import BernoulliNB"
     ],
     "language": "python",
     "metadata": {},
     "outputs": [],
     "prompt_number": 355
    },
    {
     "cell_type": "heading",
     "level": 2,
     "metadata": {},
     "source": [
      "Separates data into data (predictors) and target (respondent)"
     ]
    },
    {
     "cell_type": "code",
     "collapsed": false,
     "input": [
      "sms_file = open(\"SMSSpamCollection\")\n",
      "texto = csv.reader(sms_file, delimiter='\\t')\n",
      "\n",
      "data = []\n",
      "target=[]\n",
      "for row in texto:\n",
      "    data.append(row[1])\n",
      "    if row[0] == 'ham':\n",
      "        target.append(0)\n",
      "    else:\n",
      "        target.append(1)"
     ],
     "language": "python",
     "metadata": {},
     "outputs": [],
     "prompt_number": 332
    },
    {
     "cell_type": "heading",
     "level": 2,
     "metadata": {},
     "source": [
      "Converts list with SMSs into a string"
     ]
    },
    {
     "cell_type": "code",
     "collapsed": false,
     "input": [
      "whole_doc = ' '.join(data)"
     ],
     "language": "python",
     "metadata": {},
     "outputs": [],
     "prompt_number": 333
    },
    {
     "cell_type": "heading",
     "level": 2,
     "metadata": {},
     "source": [
      "Creates Text Blob"
     ]
    },
    {
     "cell_type": "code",
     "collapsed": false,
     "input": [
      "text_blob = tb(whole_doc)"
     ],
     "language": "python",
     "metadata": {},
     "outputs": [],
     "prompt_number": 334
    },
    {
     "cell_type": "heading",
     "level": 2,
     "metadata": {},
     "source": [
      "Word Frequency"
     ]
    },
    {
     "cell_type": "code",
     "collapsed": false,
     "input": [
      "#Note: word_counts is not case sensitive\n",
      "\n",
      "#word frequency returns times a word is in sms divided by number of words in sms\n",
      "def word_freq(word, sms):\n",
      "    if len(sms.words) == 0:\n",
      "        return 0\n",
      "    else:\n",
      "        return sms.word_counts[word] / len(sms.words)"
     ],
     "language": "python",
     "metadata": {},
     "outputs": [],
     "prompt_number": 335
    },
    {
     "cell_type": "heading",
     "level": 2,
     "metadata": {},
     "source": [
      "Generates word scores"
     ]
    },
    {
     "cell_type": "code",
     "collapsed": false,
     "input": [
      "scores = {word: word_freq(word,text_blob) for word in text_blob.words}"
     ],
     "language": "python",
     "metadata": {},
     "outputs": [],
     "prompt_number": 336
    },
    {
     "cell_type": "heading",
     "level": 2,
     "metadata": {},
     "source": [
      "Sorts the scores"
     ]
    },
    {
     "cell_type": "code",
     "collapsed": false,
     "input": [
      "sorted_words = sorted(scores.items(), key=lambda x: x[1], reverse=True)"
     ],
     "language": "python",
     "metadata": {},
     "outputs": [],
     "prompt_number": 337
    },
    {
     "cell_type": "heading",
     "level": 2,
     "metadata": {},
     "source": [
      "Preselection Process. Gets rid of some words, and words with low scores"
     ]
    },
    {
     "cell_type": "code",
     "collapsed": false,
     "input": [
      "exclude_list = ['a', 'the' ,'to', 'from', 'r', 'am', 'ur','s', 'd', 're', 'c', 'is', 'n', 'u', 'at', 'in', 'or','to']\n",
      "#Interesting find: the words \"from\",'m','on' should not be excluded. Performance lowers\"\n",
      "final = {}\n",
      "for word, score in sorted_words:\n",
      "       if score > 0.001 and word not in exclude_list:\n",
      "           final[word] = round(score,5)"
     ],
     "language": "python",
     "metadata": {},
     "outputs": [],
     "prompt_number": 338
    },
    {
     "cell_type": "heading",
     "level": 2,
     "metadata": {},
     "source": [
      "Puts selected words in right shape to use DictVectorizer"
     ]
    },
    {
     "cell_type": "code",
     "collapsed": false,
     "input": [
      "super_final = []\n",
      "for sentence in data:\n",
      "    mydict = {}\n",
      "    for word, score in final.items():\n",
      "        if sentence.find(word) != -1:\n",
      "            mydict[word] = score\n",
      "    super_final.append(mydict)"
     ],
     "language": "python",
     "metadata": {},
     "outputs": [],
     "prompt_number": 339
    },
    {
     "cell_type": "heading",
     "level": 2,
     "metadata": {},
     "source": [
      "Transforming the data into a sparse matrix and splitting it in train, test datasets"
     ]
    },
    {
     "cell_type": "code",
     "collapsed": false,
     "input": [
      "from sklearn.feature_extraction import DictVectorizer\n",
      "vec = DictVectorizer()\n",
      "new_x = vec.fit_transform(super_final).toarray()\n",
      "new_x"
     ],
     "language": "python",
     "metadata": {},
     "outputs": [
      {
       "metadata": {},
       "output_type": "pyout",
       "prompt_number": 340,
       "text": [
        "array([[ 0.     ,  0.     ,  0.     , ...,  0.     ,  0.     ,  0.     ],\n",
        "       [ 0.     ,  0.     ,  0.     , ...,  0.     ,  0.     ,  0.     ],\n",
        "       [ 0.00103,  0.00552,  0.00338, ...,  0.     ,  0.     ,  0.     ],\n",
        "       ..., \n",
        "       [ 0.     ,  0.     ,  0.     , ...,  0.     ,  0.     ,  0.     ],\n",
        "       [ 0.     ,  0.     ,  0.     , ...,  0.     ,  0.     ,  0.     ],\n",
        "       [ 0.     ,  0.     ,  0.     , ...,  0.     ,  0.     ,  0.     ]])"
       ]
      }
     ],
     "prompt_number": 340
    },
    {
     "cell_type": "code",
     "collapsed": false,
     "input": [
      "new_x.shape"
     ],
     "language": "python",
     "metadata": {},
     "outputs": [
      {
       "metadata": {},
       "output_type": "pyout",
       "prompt_number": 341,
       "text": [
        "(5572, 139)"
       ]
      }
     ],
     "prompt_number": 341
    },
    {
     "cell_type": "code",
     "collapsed": false,
     "input": [
      "x_train, x_test, y_train, y_test = train_test_split(new_x, target, test_size=0.4, random_state=0)"
     ],
     "language": "python",
     "metadata": {},
     "outputs": [],
     "prompt_number": 342
    },
    {
     "cell_type": "heading",
     "level": 2,
     "metadata": {},
     "source": [
      "GaussianNB classifier - BAD"
     ]
    },
    {
     "cell_type": "code",
     "collapsed": false,
     "input": [
      "clf = GaussianNB()\n",
      "clf = clf.fit(x_train, y_train)\n",
      "predicted = clf.predict(x_test)\n",
      "print(metrics.classification_report(y_test, predicted))\n",
      "print(metrics.confusion_matrix(y_test, predicted))\n",
      "print(metrics.f1_score(y_test, predicted))\n",
      "scores = cross_val_score(clf, new_x, target, cv=5)"
     ],
     "language": "python",
     "metadata": {},
     "outputs": [
      {
       "output_type": "stream",
       "stream": "stdout",
       "text": [
        "             precision    recall  f1-score   support\n",
        "\n",
        "          0       0.99      0.71      0.83      1935\n",
        "          1       0.33      0.93      0.49       294\n",
        "\n",
        "avg / total       0.90      0.74      0.78      2229\n",
        "\n",
        "[[1377  558]\n",
        " [  20  274]]\n",
        "0.486678507993\n"
       ]
      }
     ],
     "prompt_number": 343
    },
    {
     "cell_type": "heading",
     "level": 2,
     "metadata": {},
     "source": [
      "Decision Tree Classifier - Better"
     ]
    },
    {
     "cell_type": "code",
     "collapsed": false,
     "input": [
      "clf = tree.DecisionTreeClassifier()\n",
      "clf = clf.fit(x_train, y_train)\n",
      "predicted = clf.predict(x_test)\n",
      "print(metrics.classification_report(y_test, predicted))\n",
      "print(metrics.confusion_matrix(y_test, predicted))\n",
      "print(metrics.f1_score(y_test, predicted))\n",
      "scores = cross_val_score(clf, new_x,target, cv=5)"
     ],
     "language": "python",
     "metadata": {},
     "outputs": [
      {
       "output_type": "stream",
       "stream": "stdout",
       "text": [
        "             precision    recall  f1-score   support\n",
        "\n",
        "          0       0.98      0.97      0.98      1935\n",
        "          1       0.84      0.85      0.84       294\n",
        "\n",
        "avg / total       0.96      0.96      0.96      2229\n",
        "\n",
        "[[1886   49]\n",
        " [  45  249]]\n",
        "0.841216216216\n"
       ]
      }
     ],
     "prompt_number": 344
    },
    {
     "cell_type": "code",
     "collapsed": false,
     "input": [
      "clf = BernoulliNB()\n",
      "clf = clf.fit(x_train, y_train)\n",
      "predicted = clf.predict(x_test)\n",
      "print(metrics.classification_report(y_test, predicted))\n",
      "print(metrics.confusion_matrix(y_test, predicted))\n",
      "print(metrics.f1_score(y_test, predicted))\n",
      "scores = cross_val_score(clf, new_x,target, cv=5)"
     ],
     "language": "python",
     "metadata": {},
     "outputs": [
      {
       "output_type": "stream",
       "stream": "stdout",
       "text": [
        "             precision    recall  f1-score   support\n",
        "\n",
        "          0       0.98      0.99      0.99      1935\n",
        "          1       0.93      0.89      0.91       294\n",
        "\n",
        "avg / total       0.98      0.98      0.98      2229\n",
        "\n",
        "[[1914   21]\n",
        " [  33  261]]\n",
        "0.90625\n"
       ]
      }
     ],
     "prompt_number": 356
    },
    {
     "cell_type": "heading",
     "level": 2,
     "metadata": {},
     "source": [
      "k-means - Could not get interesting clusters"
     ]
    },
    {
     "cell_type": "code",
     "collapsed": false,
     "input": [
      "kmeans2 = KMeans(4)\n",
      "predicted = kmeans2.fit_predict(new_x)"
     ],
     "language": "python",
     "metadata": {},
     "outputs": [],
     "prompt_number": 345
    },
    {
     "cell_type": "code",
     "collapsed": false,
     "input": [
      "datadf = pd.Series(data)\n",
      "datadf = datadf.to_frame()\n"
     ],
     "language": "python",
     "metadata": {},
     "outputs": [],
     "prompt_number": 346
    },
    {
     "cell_type": "code",
     "collapsed": false,
     "input": [
      "clusterdf = cluster.to_frame()"
     ],
     "language": "python",
     "metadata": {},
     "outputs": [],
     "prompt_number": 347
    },
    {
     "cell_type": "code",
     "collapsed": false,
     "input": [
      "#clean function not working properly. It is not removing all words in exclude_list\n",
      "def clean(data):\n",
      "    for exclude_word in exclude_list:\n",
      "        data['sms'] = data['sms'].replace(exclude_word,'')\n",
      "    return data\n",
      "\n",
      "new_c =  pd.concat([datadf,clusterdf],axis=1)\n",
      "new_c.columns =['sms','cluster']\n",
      "new_c = clean(new_c)"
     ],
     "language": "python",
     "metadata": {},
     "outputs": [],
     "prompt_number": 351
    },
    {
     "cell_type": "code",
     "collapsed": false,
     "input": [
      "cl1 = tb(str(new_c[new_c['cluster'] == 1]['sms']))\n",
      "cl2 = tb(str(new_c[new_c['cluster'] == 2]['sms']))\n",
      "cl3 = tb(str(new_c[new_c['cluster'] == 3]['sms']))\n",
      "cl4 = tb(str(new_c[new_c['cluster'] == 4]['sms']))"
     ],
     "language": "python",
     "metadata": {},
     "outputs": [],
     "prompt_number": 352
    },
    {
     "cell_type": "code",
     "collapsed": false,
     "input": [
      "scores = {word: word_freq(word,cl1) for word in cl1.words}\n",
      "sorted_words = sorted(scores.items(), key=lambda x: x[1], reverse=True)\n",
      "print(sorted_words[:50])\n",
      "print('-----------')\n",
      "scores = {word: word_freq(word,cl2) for word in cl1.words}\n",
      "sorted_words = sorted(scores.items(), key=lambda x: x[1], reverse=True)\n",
      "print(sorted_words[:50])\n",
      "print('-----------')\n",
      "scores = {word: word_freq(word,cl3) for word in cl1.words}\n",
      "sorted_words = sorted(scores.items(), key=lambda x: x[1], reverse=True)\n",
      "print(sorted_words[:50])\n",
      "print('-----------')\n",
      "scores = {word: word_freq(word,cl4) for word in cl1.words}\n",
      "sorted_words = sorted(scores.items(), key=lambda x: x[1], reverse=True)\n",
      "print(sorted_words[:50])"
     ],
     "language": "python",
     "metadata": {},
     "outputs": [
      {
       "output_type": "stream",
       "stream": "stdout",
       "text": [
        "[('your', 0.061855670103092786), ('to', 0.044673539518900345), ('for', 0.027491408934707903), ('you', 0.027491408934707903), ('the', 0.01718213058419244), ('a', 0.013745704467353952), ('per', 0.010309278350515464), ('is', 0.010309278350515464), ('get', 0.010309278350515464), ('from', 0.010309278350515464), ('yo', 0.010309278350515464), ('mobile', 0.006872852233676976), ('1', 0.006872852233676976), ('11', 0.006872852233676976), (\"n't\", 0.006872852233676976), ('call', 0.006872852233676976), ('free', 0.006872852233676976), ('sms', 0.006872852233676976), ('how', 0.006872852233676976), ('my', 0.006872852233676976), ('am', 0.006872852233676976), ('that', 0.006872852233676976), ('request', 0.006872852233676976), ('so', 0.006872852233676976), ('s', 0.003436426116838488), ('08448350055', 0.003436426116838488), ('na', 0.003436426116838488), ('day', 0.003436426116838488), ('pleased', 0.003436426116838488), ('5497', 0.003436426116838488), ('gon', 0.003436426116838488), ('attached', 0.003436426116838488), ('egg', 0.003436426116838488), ('meant', 0.003436426116838488), ('seeing', 0.003436426116838488), ('system', 0.003436426116838488), ('bus', 0.003436426116838488), ('customer', 0.003436426116838488), ('advise', 0.003436426116838488), ('13', 0.003436426116838488), ('summer', 0.003436426116838488), ('text', 0.003436426116838488), ('and', 0.003436426116838488), ('least', 0.003436426116838488), ('use', 0.003436426116838488), ('over', 0.003436426116838488), ('or', 0.003436426116838488), ('cinema', 0.003436426116838488), ('epsilon', 0.003436426116838488), ('34', 0.003436426116838488)]\n",
        "-----------\n",
        "[('call', 0.06923076923076923), ('you', 0.03076923076923077), ('is', 0.015384615384615385), ('the', 0.011538461538461539), ('a', 0.011538461538461539), ('for', 0.011538461538461539), ('and', 0.007692307692307693), ('dear', 0.007692307692307693), ('from', 0.007692307692307693), ('to', 0.007692307692307693), ('at', 0.007692307692307693), ('na', 0.0038461538461538464), ('gon', 0.0038461538461538464), ('11', 0.0038461538461538464), ('object', 0.0038461538461538464), ('account', 0.0038461538461538464), ('dtype', 0.0038461538461538464), ('which', 0.0038461538461538464), ('your', 0.0038461538461538464), ('sms', 0.0038461538461538464), ('how', 0.0038461538461538464), ('that', 0.0038461538461538464), ('so', 0.0038461538461538464), ('on', 0.0038461538461538464), ('No', 0.0), ('s', 0.0), ('How', 0.0), ('08448350055', 0.0), ('T', 0.0), ('day', 0.0), ('pleased', 0.0), ('mobile', 0.0), ('5497', 0.0), ('Lol', 0.0), ('Latest', 0.0), ('We', 0.0), ('attached', 0.0), ('SMS', 0.0), ('per', 0.0), ('Did', 0.0), ('1', 0.0), ('egg', 0.0), ('Oru', 0.0), ('Length', 0.0), ('meant', 0.0), ('seeing', 0.0), ('system', 0.0), ('bus', 0.0), ('customer', 0.0), ('advise', 0.0)]\n",
        "-----------\n",
        "[('have', 0.05198776758409786), ('you', 0.03669724770642202), ('to', 0.03058103975535168), ('a', 0.027522935779816515), ('s', 0.01834862385321101), ('and', 0.009174311926605505), ('the', 0.009174311926605505), ('is', 0.009174311926605505), (\"n't\", 0.009174311926605505), ('call', 0.009174311926605505), ('that', 0.009174311926605505), ('for', 0.009174311926605505), ('1', 0.0061162079510703364), ('customer', 0.0061162079510703364), ('text', 0.0061162079510703364), ('or', 0.0061162079510703364), ('do', 0.0061162079510703364), ('been', 0.0061162079510703364), ('on', 0.0061162079510703364), ('with', 0.0061162079510703364), ('na', 0.0030581039755351682), ('gon', 0.0030581039755351682), ('object', 0.0030581039755351682), ('dtype', 0.0030581039755351682), ('tried', 0.0030581039755351682), ('more', 0.0030581039755351682), ('2', 0.0030581039755351682), ('free', 0.0030581039755351682), ('sms', 0.0030581039755351682), ('my', 0.0030581039755351682), ('wait', 0.0030581039755351682), ('valued', 0.0030581039755351682), ('so', 0.0030581039755351682), ('love', 0.0030581039755351682), ('No', 0.0), ('How', 0.0), ('08448350055', 0.0), ('T', 0.0), ('day', 0.0), ('pleased', 0.0), ('mobile', 0.0), ('5497', 0.0), ('Lol', 0.0), ('Latest', 0.0), ('We', 0.0), ('attached', 0.0), ('SMS', 0.0), ('per', 0.0), ('Did', 0.0), ('egg', 0.0)]\n",
        "-----------\n",
        "[('object', 0.2), ('dtype', 0.2), ('sms', 0.2), ('No', 0.0), ('s', 0.0), ('How', 0.0), ('08448350055', 0.0), ('T', 0.0), ('na', 0.0), ('day', 0.0), ('pleased', 0.0), ('mobile', 0.0), ('5497', 0.0), ('Lol', 0.0), ('Latest', 0.0), ('We', 0.0), ('gon', 0.0), ('attached', 0.0), ('SMS', 0.0), ('per', 0.0), ('Did', 0.0), ('1', 0.0), ('egg', 0.0), ('Oru', 0.0), ('Length', 0.0), ('meant', 0.0), ('seeing', 0.0), ('system', 0.0), ('bus', 0.0), ('customer', 0.0), ('advise', 0.0), ('13', 0.0), ('summer', 0.0), ('text', 0.0), ('and', 0.0), ('To', 0.0), ('Thanks', 0.0), ('least', 0.0), ('use', 0.0), ('over', 0.0), ('Ringtone', 0.0), ('or', 0.0), ('Moto', 0.0), ('cinema', 0.0), ('epsilon', 0.0), ('34', 0.0), ('goes', 0.0), ('Germany', 0.0), ('min', 0.0), (\"'Melle\", 0.0)]\n"
       ]
      }
     ],
     "prompt_number": 353
    },
    {
     "cell_type": "code",
     "collapsed": false,
     "input": [],
     "language": "python",
     "metadata": {},
     "outputs": [],
     "prompt_number": 353
    },
    {
     "cell_type": "code",
     "collapsed": false,
     "input": [],
     "language": "python",
     "metadata": {},
     "outputs": []
    },
    {
     "cell_type": "code",
     "collapsed": false,
     "input": [],
     "language": "python",
     "metadata": {},
     "outputs": []
    }
   ],
   "metadata": {}
  }
 ]
}